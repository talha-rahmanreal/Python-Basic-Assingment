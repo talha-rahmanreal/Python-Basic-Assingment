{
  "nbformat": 4,
  "nbformat_minor": 0,
  "metadata": {
    "colab": {
      "name": "Python Basic Assignment_2.ipynb",
      "provenance": [],
      "collapsed_sections": []
    },
    "kernelspec": {
      "name": "python3",
      "display_name": "Python 3"
    },
    "language_info": {
      "name": "python"
    }
  },
  "cells": [
    {
      "cell_type": "markdown",
      "source": [
        "> 1. What are the two values of the boolean data types? how do you write them ?\n",
        "\n",
        "**Ans**"
      ],
      "metadata": {
        "id": "H9D17ufPVaG5"
      }
    },
    {
      "cell_type": "code",
      "execution_count": 1,
      "metadata": {
        "colab": {
          "base_uri": "https://localhost:8080/"
        },
        "id": "wsEyM2DKVRba",
        "outputId": "01e2f923-86b4-4965-f8df-2a5fe8a13c92"
      },
      "outputs": [
        {
          "output_type": "stream",
          "name": "stdout",
          "text": [
            "True <class 'bool'>\n",
            "False <class 'bool'>\n"
          ]
        }
      ],
      "source": [
        "# True and False are the two types of boolean\n",
        "x=True\n",
        "y=False\n",
        "print(x,type(x))\n",
        "print(y,type(y))"
      ]
    },
    {
      "cell_type": "markdown",
      "source": [
        "> 2. What are the three different types of Boolean operators?\n",
        "\n",
        "**Ans** `or` , `and` , `not` are three types of boolean operator"
      ],
      "metadata": {
        "id": "A8IK1ZaPWDtR"
      }
    },
    {
      "cell_type": "code",
      "source": [
        "x=1\n",
        "y=6"
      ],
      "metadata": {
        "id": "mqMt690JWAHk"
      },
      "execution_count": 2,
      "outputs": []
    },
    {
      "cell_type": "code",
      "source": [
        "# or boolean\n",
        "print(x < 5 or y > 5 )"
      ],
      "metadata": {
        "colab": {
          "base_uri": "https://localhost:8080/"
        },
        "id": "ea92kWb7XAdo",
        "outputId": "1a090c61-9da3-4a77-b25b-a6d06902cba7"
      },
      "execution_count": 3,
      "outputs": [
        {
          "output_type": "stream",
          "name": "stdout",
          "text": [
            "True\n"
          ]
        }
      ]
    },
    {
      "cell_type": "code",
      "source": [
        "# and boolean\n",
        "print(x < 5 and y > 5) "
      ],
      "metadata": {
        "colab": {
          "base_uri": "https://localhost:8080/"
        },
        "id": "GcfX_FYUW2Kn",
        "outputId": "fca8027a-b319-4ca0-9019-7d9f2a790499"
      },
      "execution_count": 4,
      "outputs": [
        {
          "output_type": "stream",
          "name": "stdout",
          "text": [
            "True\n"
          ]
        }
      ]
    },
    {
      "cell_type": "code",
      "source": [
        "# not boolean\n",
        "print(not(x>5))"
      ],
      "metadata": {
        "colab": {
          "base_uri": "https://localhost:8080/"
        },
        "id": "iwqdmKQvXARx",
        "outputId": "ab8e4ae7-0f8c-49ff-b371-0249f2e51790"
      },
      "execution_count": 5,
      "outputs": [
        {
          "output_type": "stream",
          "name": "stdout",
          "text": [
            "True\n"
          ]
        }
      ]
    },
    {
      "cell_type": "markdown",
      "source": [
        "> 3. Make a list of each Boolean operator's truth tables (i.e. every possible combination of Boolean values for the operator and what it evaluate) ?"
      ],
      "metadata": {
        "id": "ZvN8nMn0YJvM"
      }
    },
    {
      "cell_type": "markdown",
      "source": [
        "**Ans** \n",
        "The Truth tables for the boolean tables are as follows:\n",
        "\n",
        "> Truth Table for and operaotor\n",
        "* True and True is True\n",
        "* True and False is False\n",
        "* False and True is False\n",
        "* False and False is False\n",
        "\n",
        "\n",
        "> Truth Table for or operaotor\n",
        "* True and True is True\n",
        "* True and False is True\n",
        "* False and True is True\n",
        "* False and False is False\n",
        "\n",
        "> Truth Table for not operaotor\n",
        "* True not is False \n",
        "* False not is True"
      ],
      "metadata": {
        "id": "M4miOp1PYSpk"
      }
    },
    {
      "cell_type": "markdown",
      "source": [
        "> 4. What are the values of the following expressions ?\n",
        "\n",
        "* (5 > 4) and (3 == 5)\n",
        "* not (5 > 4)\n",
        "* (5 > 4) or (3 == 5)\n",
        "* not ((5 > 4) or (3 == 5))\n",
        "* (True and True) and (True == False)\n",
        "* (not False) or (not True)"
      ],
      "metadata": {
        "id": "I4OsDogqYw_v"
      }
    },
    {
      "cell_type": "code",
      "source": [
        "(5 > 4) and (3 == 5)"
      ],
      "metadata": {
        "colab": {
          "base_uri": "https://localhost:8080/"
        },
        "id": "QoTTeUmhX5ky",
        "outputId": "662fb0bd-4a20-4e9f-8186-62b45b9d42bd"
      },
      "execution_count": 6,
      "outputs": [
        {
          "output_type": "execute_result",
          "data": {
            "text/plain": [
              "False"
            ]
          },
          "metadata": {},
          "execution_count": 6
        }
      ]
    },
    {
      "cell_type": "code",
      "source": [
        "not (5 > 4)"
      ],
      "metadata": {
        "colab": {
          "base_uri": "https://localhost:8080/"
        },
        "id": "Z3aKf3D5ZLVx",
        "outputId": "564ca0da-3839-4d5d-9002-03ed2a10ba78"
      },
      "execution_count": 7,
      "outputs": [
        {
          "output_type": "execute_result",
          "data": {
            "text/plain": [
              "False"
            ]
          },
          "metadata": {},
          "execution_count": 7
        }
      ]
    },
    {
      "cell_type": "code",
      "source": [
        "(5 > 4) or (3 == 5)"
      ],
      "metadata": {
        "colab": {
          "base_uri": "https://localhost:8080/"
        },
        "id": "OWQaK2v2ZPUb",
        "outputId": "05ba8f36-1afb-4210-c562-042841d99d4f"
      },
      "execution_count": 8,
      "outputs": [
        {
          "output_type": "execute_result",
          "data": {
            "text/plain": [
              "True"
            ]
          },
          "metadata": {},
          "execution_count": 8
        }
      ]
    },
    {
      "cell_type": "code",
      "source": [
        "not ((5 > 4) or (3 == 5))"
      ],
      "metadata": {
        "colab": {
          "base_uri": "https://localhost:8080/"
        },
        "id": "j-EM4ZqiZPHq",
        "outputId": "47c6ea5a-2914-4500-d4d8-0b7b8a1a8204"
      },
      "execution_count": 9,
      "outputs": [
        {
          "output_type": "execute_result",
          "data": {
            "text/plain": [
              "False"
            ]
          },
          "metadata": {},
          "execution_count": 9
        }
      ]
    },
    {
      "cell_type": "code",
      "source": [
        "(True and True) and (True == False)"
      ],
      "metadata": {
        "colab": {
          "base_uri": "https://localhost:8080/"
        },
        "id": "-GetSCxFZWib",
        "outputId": "5d0eec0f-885e-4ab8-a140-fecdabc82fee"
      },
      "execution_count": 10,
      "outputs": [
        {
          "output_type": "execute_result",
          "data": {
            "text/plain": [
              "False"
            ]
          },
          "metadata": {},
          "execution_count": 10
        }
      ]
    },
    {
      "cell_type": "code",
      "source": [
        "(not False) or (not True)"
      ],
      "metadata": {
        "colab": {
          "base_uri": "https://localhost:8080/"
        },
        "id": "8PETmeCTZZFb",
        "outputId": "6a95c943-37c7-49dc-e98e-ed684cbad864"
      },
      "execution_count": 11,
      "outputs": [
        {
          "output_type": "execute_result",
          "data": {
            "text/plain": [
              "True"
            ]
          },
          "metadata": {},
          "execution_count": 11
        }
      ]
    },
    {
      "cell_type": "markdown",
      "source": [
        "> 5. What are the six comparison operators?"
      ],
      "metadata": {
        "id": "GjfWvatfZnfO"
      }
    },
    {
      "cell_type": "markdown",
      "source": [
        "*Ans* : \n",
        ">\n",
        "* != \n",
        "* <  \n",
        "* <= \n",
        "* => , >\n",
        "* =="
      ],
      "metadata": {
        "id": "DNmBzdhBZvju"
      }
    },
    {
      "cell_type": "markdown",
      "source": [
        "> 6. How do you tell the difference between the equal to and assignment operators?Describe a condition and when you would use one ?"
      ],
      "metadata": {
        "id": "TxTuanY6ad3t"
      }
    },
    {
      "cell_type": "markdown",
      "source": [
        "**Ans**\n",
        "\n",
        "* == the equal to operator compares two values and give result in Boolean\n",
        "\n",
        "* =  the assignment operator stores a value in a variable."
      ],
      "metadata": {
        "id": "RqX0tGAjsNDI"
      }
    },
    {
      "cell_type": "code",
      "source": [
        "x = 10\n",
        "x = y\n",
        "print(x)\n",
        "print(y)"
      ],
      "metadata": {
        "colab": {
          "base_uri": "https://localhost:8080/"
        },
        "id": "nbr5xwJgsMcb",
        "outputId": "c3bb26ec-853f-4737-84f2-0148643ef4ef"
      },
      "execution_count": 12,
      "outputs": [
        {
          "output_type": "stream",
          "name": "stdout",
          "text": [
            "6\n",
            "6\n"
          ]
        }
      ]
    },
    {
      "cell_type": "code",
      "source": [
        "x == y"
      ],
      "metadata": {
        "colab": {
          "base_uri": "https://localhost:8080/"
        },
        "id": "1nIu-Wm4ZqEG",
        "outputId": "f3fbbb59-139e-44f0-870f-77377df8b27f"
      },
      "execution_count": 14,
      "outputs": [
        {
          "output_type": "execute_result",
          "data": {
            "text/plain": [
              "True"
            ]
          },
          "metadata": {},
          "execution_count": 14
        }
      ]
    },
    {
      "cell_type": "markdown",
      "source": [
        "> 7. Identify the three blocks in this code:\n",
        "\n",
        "spam = 0\n",
        "\n",
        "if spam == 10:\n",
        "\n",
        "print('eggs')\n",
        "\n",
        "if spam > 5:\n",
        "\n",
        "print('bacon')\n",
        "\n",
        "else:\n",
        "\n",
        "print('ham')\n",
        "\n",
        "print('spam')\n",
        "\n",
        "print('spam')"
      ],
      "metadata": {
        "id": "llvqZ7_CtgdW"
      }
    },
    {
      "cell_type": "code",
      "source": [
        "spam = 0\n",
        "\n",
        "if spam == 10:\n",
        "  print('eggs')  # block 1\n",
        "\n",
        "if spam > 5:\n",
        "  print('bacon')  # block 2\n",
        "\n",
        "else:\n",
        "  print('ham')\n",
        "  print('spam')\n",
        "  print('spam') # block 3"
      ],
      "metadata": {
        "colab": {
          "base_uri": "https://localhost:8080/"
        },
        "id": "6cP7xy0_tYHG",
        "outputId": "1a0ae6f8-b96b-4dba-e029-50f1711589ff"
      },
      "execution_count": 17,
      "outputs": [
        {
          "output_type": "stream",
          "name": "stdout",
          "text": [
            "ham\n",
            "spam\n",
            "spam\n"
          ]
        }
      ]
    },
    {
      "cell_type": "markdown",
      "source": [
        "> 8. Write code that prints Hello \n",
        "\n",
        "if 1 is stored in spam, \n",
        "\n",
        "prints Howdy if 2 is stored in spam,\n",
        "\n",
        "and \n",
        "\n",
        "prints Greetings! \n",
        "\n",
        "if anything else is stored in spam."
      ],
      "metadata": {
        "id": "DRlcMQqtuejY"
      }
    },
    {
      "cell_type": "code",
      "source": [
        "def Code(spam):\n",
        "    if spam==1:\n",
        "        print('Hello')\n",
        "    elif spam==2:\n",
        "        print('Howdy')\n",
        "    else:\n",
        "        print('Greetings')\n",
        "        \n",
        "Code(1) \n",
        "Code(2)\n",
        "Code(3)"
      ],
      "metadata": {
        "colab": {
          "base_uri": "https://localhost:8080/"
        },
        "id": "p_POfSIuuD9V",
        "outputId": "594bf39a-5dc8-4e9a-89fe-6f9f2af19abf"
      },
      "execution_count": 20,
      "outputs": [
        {
          "output_type": "stream",
          "name": "stdout",
          "text": [
            "Hello\n",
            "Howdy\n",
            "Greetings\n"
          ]
        }
      ]
    },
    {
      "cell_type": "markdown",
      "source": [
        "> 9. If your programme is stuck in an endless loop, what keys you’ll press?"
      ],
      "metadata": {
        "id": "8CH5awczvVbN"
      }
    },
    {
      "cell_type": "markdown",
      "source": [
        "**Ans:** Press Ctrl-C to stop a program stuck in an endless loop"
      ],
      "metadata": {
        "id": "aLndDX0_ve7H"
      }
    },
    {
      "cell_type": "markdown",
      "source": [
        "> 10. How can you tell the difference between break and continue?\n"
      ],
      "metadata": {
        "id": "9zno_ZTCvtTv"
      }
    },
    {
      "cell_type": "markdown",
      "source": [
        "**Ans:** \n",
        "\n",
        "The break statement will move the execution outside the loop if break condtion is satisfied.\n",
        "\n",
        "Whereas the continue statement will move the execution to the start of the loop."
      ],
      "metadata": {
        "id": "Lcu61z5av8Sw"
      }
    },
    {
      "cell_type": "markdown",
      "source": [
        "> 11. In a for loop, what is the difference between range(10), range(0, 10), and range(0, 10, 1)?\n",
        "\n",
        "**Ans:**\n"
      ],
      "metadata": {
        "id": "lqYoEatbwv4J"
      }
    },
    {
      "cell_type": "code",
      "source": [
        "# printed range from 0 to 9 excluding 10 \n",
        "for i in range(10):\n",
        "  print(i)"
      ],
      "metadata": {
        "colab": {
          "base_uri": "https://localhost:8080/"
        },
        "id": "fOGu2sjdv73J",
        "outputId": "e7b7eab0-0412-4258-d377-506a0f3d4614"
      },
      "execution_count": 29,
      "outputs": [
        {
          "output_type": "stream",
          "name": "stdout",
          "text": [
            "0\n",
            "1\n",
            "2\n",
            "3\n",
            "4\n",
            "5\n",
            "6\n",
            "7\n",
            "8\n",
            "9\n"
          ]
        }
      ]
    },
    {
      "cell_type": "code",
      "source": [
        "# started the loop from 0 to 9 excluding 10\n",
        "for i in range(0,10):\n",
        "  print(i)"
      ],
      "metadata": {
        "colab": {
          "base_uri": "https://localhost:8080/"
        },
        "id": "5QR-wDVVu9Xu",
        "outputId": "4ef5ac95-00d0-45ce-f241-87b57644dfbc"
      },
      "execution_count": 30,
      "outputs": [
        {
          "output_type": "stream",
          "name": "stdout",
          "text": [
            "0\n",
            "1\n",
            "2\n",
            "3\n",
            "4\n",
            "5\n",
            "6\n",
            "7\n",
            "8\n",
            "9\n"
          ]
        }
      ]
    },
    {
      "cell_type": "code",
      "source": [
        "# started the loop from 0 to 9 and iterating variable by 1 \n",
        "for i in range(0,10,1):\n",
        "  print(i)"
      ],
      "metadata": {
        "colab": {
          "base_uri": "https://localhost:8080/"
        },
        "id": "j_gY0BNBxaC5",
        "outputId": "267e55dc-7de5-48f5-b8bc-13bfd47dd37f"
      },
      "execution_count": 31,
      "outputs": [
        {
          "output_type": "stream",
          "name": "stdout",
          "text": [
            "0\n",
            "1\n",
            "2\n",
            "3\n",
            "4\n",
            "5\n",
            "6\n",
            "7\n",
            "8\n",
            "9\n"
          ]
        }
      ]
    },
    {
      "cell_type": "markdown",
      "source": [
        "> 12. Write a short program that prints the numbers 1 to 10 using a for loop. Then write an equivalent program that prints the numbers 1 to 10 using a while loop ?"
      ],
      "metadata": {
        "id": "wRUo2v2qzHto"
      }
    },
    {
      "cell_type": "code",
      "source": [
        "# using for loop\n",
        "for i in range(1,11):\n",
        "    print(i)"
      ],
      "metadata": {
        "colab": {
          "base_uri": "https://localhost:8080/"
        },
        "id": "ZaHsLbgexe4u",
        "outputId": "d7cae56f-7948-4144-cc98-f9da380045aa"
      },
      "execution_count": 34,
      "outputs": [
        {
          "output_type": "stream",
          "name": "stdout",
          "text": [
            "1\n",
            "2\n",
            "3\n",
            "4\n",
            "5\n",
            "6\n",
            "7\n",
            "8\n",
            "9\n",
            "10\n"
          ]
        }
      ]
    },
    {
      "cell_type": "code",
      "source": [
        "# Using while loop\n",
        "i=1\n",
        "while i <= 10:\n",
        "    print(i)\n",
        "    i+=1"
      ],
      "metadata": {
        "colab": {
          "base_uri": "https://localhost:8080/"
        },
        "id": "2GfI64t2ztTZ",
        "outputId": "b418f00b-763d-419d-bc4f-975f9ec66a59"
      },
      "execution_count": 35,
      "outputs": [
        {
          "output_type": "stream",
          "name": "stdout",
          "text": [
            "1\n",
            "2\n",
            "3\n",
            "4\n",
            "5\n",
            "6\n",
            "7\n",
            "8\n",
            "9\n",
            "10\n"
          ]
        }
      ]
    },
    {
      "cell_type": "markdown",
      "source": [
        "> 13. \n",
        "If you had a function named bacon() inside a module named spam, \n",
        "how would you call it after importing spam ?"
      ],
      "metadata": {
        "id": "Ofcn00TP0CFG"
      }
    },
    {
      "cell_type": "markdown",
      "source": [
        "Ans: This function can be called with spam.bacon()"
      ],
      "metadata": {
        "id": "NqbXZHwj23C6"
      }
    },
    {
      "cell_type": "code",
      "source": [
        ""
      ],
      "metadata": {
        "id": "cHlAbt_6z6Qz"
      },
      "execution_count": null,
      "outputs": []
    }
  ]
}