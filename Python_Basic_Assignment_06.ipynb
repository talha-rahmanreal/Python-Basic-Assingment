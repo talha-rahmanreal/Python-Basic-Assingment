{
  "cells": [
    {
      "cell_type": "markdown",
      "metadata": {
        "id": "16p9dPhagDOI"
      },
      "source": [
        "#### 1.What are Escape characters ? and how do you use them ?\n",
        "**Ans:** An escape character is a backslash \\ followed by the character you want to insert.\n",
        "\n",
        "**example:** `\\t` , `\\n` , `\\\\` , `\\ooo`\n"
      ]
    },
    {
      "cell_type": "markdown",
      "metadata": {
        "id": "P7lqUzPSgDOL"
      },
      "source": [
        "#### 2.What do the escape characters n and t stand for ?\n",
        "**Ans:** `\\n` is a newline, `\\t` is a tab"
      ]
    },
    {
      "cell_type": "markdown",
      "metadata": {
        "id": "arASbt5YgDON"
      },
      "source": [
        "#### 3.What is the way to include backslash character in a string?\n",
        "**Ans:** The `\\\\` escape character will represent the backslash character in a string"
      ]
    },
    {
      "cell_type": "markdown",
      "metadata": {
        "id": "7CEMbIbUgDOP"
      },
      "source": [
        "#### 4.The string \"Howl's Moving Castle\" is a correct value. Why isn't the single quote character in the word Howl's not escaped a problem ?\n",
        "**Ans:** The string `\"Howl's Moving Castle\"` escaped the problem because it is wrapped inside double quotes. if its wrapped inside single quotes then we have to use escape character `\\'` to show single quote in the final output  \n"
      ]
    },
    {
      "cell_type": "code",
      "source": [
        "'Howl\\'s Moving Castle'"
      ],
      "metadata": {
        "colab": {
          "base_uri": "https://localhost:8080/",
          "height": 35
        },
        "id": "csY7KEDsWN0-",
        "outputId": "c357897c-d640-4eaa-9611-2430f788a936"
      },
      "execution_count": 3,
      "outputs": [
        {
          "output_type": "execute_result",
          "data": {
            "application/vnd.google.colaboratory.intrinsic+json": {
              "type": "string"
            },
            "text/plain": [
              "\"Howl's Moving Castle\""
            ]
          },
          "metadata": {},
          "execution_count": 3
        }
      ]
    },
    {
      "cell_type": "code",
      "source": [
        "\"Howl's Moving Castle\""
      ],
      "metadata": {
        "colab": {
          "base_uri": "https://localhost:8080/",
          "height": 35
        },
        "id": "1o4lXhx-WEMp",
        "outputId": "2529fddf-19d8-4ad9-a85b-a956ba57766d"
      },
      "execution_count": 6,
      "outputs": [
        {
          "output_type": "execute_result",
          "data": {
            "application/vnd.google.colaboratory.intrinsic+json": {
              "type": "string"
            },
            "text/plain": [
              "\"Howl's Moving Castle\""
            ]
          },
          "metadata": {},
          "execution_count": 6
        }
      ]
    },
    {
      "cell_type": "markdown",
      "metadata": {
        "id": "hsdxY46vgDOQ"
      },
      "source": [
        "#### 5.How do you write a string of newlines if you don't want to use the n character?\n",
        "**Ans:**  Multiline string allow you to use newlines in string without the `\\n` escape character  "
      ]
    },
    {
      "cell_type": "code",
      "execution_count": 7,
      "metadata": {
        "id": "-KBTdMuggDOS",
        "outputId": "8b8e3579-bab6-45ac-8e04-1f172ee3e884",
        "colab": {
          "base_uri": "https://localhost:8080/"
        }
      },
      "outputs": [
        {
          "output_type": "stream",
          "name": "stdout",
          "text": [
            "Hi this is \n",
            "Talha Rahman\n"
          ]
        }
      ],
      "source": [
        "# Example:\n",
        "a = '''Hi this is \n",
        "Talha Rahman'''\n",
        "print(a)"
      ]
    },
    {
      "cell_type": "markdown",
      "metadata": {
        "id": "8AX6UQgMgDOY"
      },
      "source": [
        "#### 6.What are the values of the given expressions ?\n",
        "'Hello, world!'[1]  \n",
        "'Hello, world!'[0:5]  \n",
        "'Hello, world!'[:5]  \n",
        "'Hello, world!'[3:]  "
      ]
    },
    {
      "cell_type": "markdown",
      "metadata": {
        "id": "VJAG7fHVgDOb"
      },
      "source": [
        "**Ans:** The values for the given expressions are:  \n"
      ]
    },
    {
      "cell_type": "code",
      "source": [
        "'Hello, world!'[1]"
      ],
      "metadata": {
        "colab": {
          "base_uri": "https://localhost:8080/",
          "height": 35
        },
        "id": "3IPynHZxa-RK",
        "outputId": "037a69c0-06d8-4637-8736-859e65862ab7"
      },
      "execution_count": 9,
      "outputs": [
        {
          "output_type": "execute_result",
          "data": {
            "application/vnd.google.colaboratory.intrinsic+json": {
              "type": "string"
            },
            "text/plain": [
              "'e'"
            ]
          },
          "metadata": {},
          "execution_count": 9
        }
      ]
    },
    {
      "cell_type": "code",
      "source": [
        "'Hello, world!'[0:5]"
      ],
      "metadata": {
        "colab": {
          "base_uri": "https://localhost:8080/",
          "height": 35
        },
        "id": "vcXvquOdbEMz",
        "outputId": "f34ad4e4-be40-41dd-f73e-c7bc0f7d0eae"
      },
      "execution_count": 10,
      "outputs": [
        {
          "output_type": "execute_result",
          "data": {
            "application/vnd.google.colaboratory.intrinsic+json": {
              "type": "string"
            },
            "text/plain": [
              "'Hello'"
            ]
          },
          "metadata": {},
          "execution_count": 10
        }
      ]
    },
    {
      "cell_type": "code",
      "source": [
        "'Hello, world!'[:5]"
      ],
      "metadata": {
        "colab": {
          "base_uri": "https://localhost:8080/",
          "height": 35
        },
        "id": "AlSCVOXKbFzz",
        "outputId": "db39ebee-ecf8-49d4-8641-405875989e6e"
      },
      "execution_count": 11,
      "outputs": [
        {
          "output_type": "execute_result",
          "data": {
            "application/vnd.google.colaboratory.intrinsic+json": {
              "type": "string"
            },
            "text/plain": [
              "'Hello'"
            ]
          },
          "metadata": {},
          "execution_count": 11
        }
      ]
    },
    {
      "cell_type": "code",
      "source": [
        "'Hello, world!'[3:]"
      ],
      "metadata": {
        "colab": {
          "base_uri": "https://localhost:8080/",
          "height": 35
        },
        "id": "x6i-eC5ibIjZ",
        "outputId": "a8ff1e79-c34c-4c76-9dff-c732bdd45a7c"
      },
      "execution_count": 12,
      "outputs": [
        {
          "output_type": "execute_result",
          "data": {
            "application/vnd.google.colaboratory.intrinsic+json": {
              "type": "string"
            },
            "text/plain": [
              "'lo, world!'"
            ]
          },
          "metadata": {},
          "execution_count": 12
        }
      ]
    },
    {
      "cell_type": "markdown",
      "metadata": {
        "id": "oKmIhnRPgDOg"
      },
      "source": [
        "#### 7.What are the values of the following expressions ?\n",
        "'Hello'.upper()  \n",
        "'Hello'.upper().isupper()  \n",
        "'Hello'.upper().lower()    \n",
        "\n",
        "**Ans:**"
      ]
    },
    {
      "cell_type": "code",
      "source": [
        "'Hello'.upper()"
      ],
      "metadata": {
        "colab": {
          "base_uri": "https://localhost:8080/",
          "height": 35
        },
        "id": "UNo3skfLbOdg",
        "outputId": "c420f778-d0cb-4c9f-eaa2-1c1f9b5ce317"
      },
      "execution_count": 13,
      "outputs": [
        {
          "output_type": "execute_result",
          "data": {
            "application/vnd.google.colaboratory.intrinsic+json": {
              "type": "string"
            },
            "text/plain": [
              "'HELLO'"
            ]
          },
          "metadata": {},
          "execution_count": 13
        }
      ]
    },
    {
      "cell_type": "code",
      "source": [
        "'Hello'.upper().isupper()"
      ],
      "metadata": {
        "colab": {
          "base_uri": "https://localhost:8080/"
        },
        "id": "DE00NAMubQ-Q",
        "outputId": "f84c6ff9-1f7e-4ffd-b2f0-778baa7e8bd4"
      },
      "execution_count": 14,
      "outputs": [
        {
          "output_type": "execute_result",
          "data": {
            "text/plain": [
              "True"
            ]
          },
          "metadata": {},
          "execution_count": 14
        }
      ]
    },
    {
      "cell_type": "code",
      "source": [
        "'Hello'.upper().isupper()"
      ],
      "metadata": {
        "colab": {
          "base_uri": "https://localhost:8080/"
        },
        "id": "gTgrl5RJbTwI",
        "outputId": "2c34eb65-fc0b-4529-e1aa-911182993f18"
      },
      "execution_count": 15,
      "outputs": [
        {
          "output_type": "execute_result",
          "data": {
            "text/plain": [
              "True"
            ]
          },
          "metadata": {},
          "execution_count": 15
        }
      ]
    },
    {
      "cell_type": "code",
      "source": [
        "'Hello'.upper().lower()"
      ],
      "metadata": {
        "colab": {
          "base_uri": "https://localhost:8080/",
          "height": 35
        },
        "id": "Vy0cs2wkbXPU",
        "outputId": "61fb39a5-bbb0-4293-8e23-aa0e44be4638"
      },
      "execution_count": 16,
      "outputs": [
        {
          "output_type": "execute_result",
          "data": {
            "application/vnd.google.colaboratory.intrinsic+json": {
              "type": "string"
            },
            "text/plain": [
              "'hello'"
            ]
          },
          "metadata": {},
          "execution_count": 16
        }
      ]
    },
    {
      "cell_type": "markdown",
      "metadata": {
        "id": "vv1hSvO6gDOi"
      },
      "source": [
        "#### 8.What are the values of the following expressions ?\n",
        "'Remember, remember, the fifith of July.'.split()  \n",
        "-'.join('There can only one'.split())\n",
        "\n",
        "**Ans:** The values for the given expressions are:  "
      ]
    },
    {
      "cell_type": "code",
      "source": [
        "'Remember, remember, the fifith of July.'.split()"
      ],
      "metadata": {
        "colab": {
          "base_uri": "https://localhost:8080/"
        },
        "id": "sD7kITgxbgLS",
        "outputId": "c3e7ae6e-2561-40be-9d36-226f736622af"
      },
      "execution_count": 17,
      "outputs": [
        {
          "output_type": "execute_result",
          "data": {
            "text/plain": [
              "['Remember,', 'remember,', 'the', 'fifith', 'of', 'July.']"
            ]
          },
          "metadata": {},
          "execution_count": 17
        }
      ]
    },
    {
      "cell_type": "code",
      "source": [
        "'-'.join('There can only one'.split())"
      ],
      "metadata": {
        "colab": {
          "base_uri": "https://localhost:8080/",
          "height": 35
        },
        "id": "a0S3ffE7bi8x",
        "outputId": "545f0776-b9c4-44e6-bb83-40cf0ddf7cde"
      },
      "execution_count": 18,
      "outputs": [
        {
          "output_type": "execute_result",
          "data": {
            "application/vnd.google.colaboratory.intrinsic+json": {
              "type": "string"
            },
            "text/plain": [
              "'There-can-only-one'"
            ]
          },
          "metadata": {},
          "execution_count": 18
        }
      ]
    },
    {
      "cell_type": "markdown",
      "metadata": {
        "id": "0N0wwApBgDOk"
      },
      "source": [
        "#### 9.What are the methods for right-justifying, left-justifying and centering a string ?\n",
        "**Ans:** The `rjust()`,`ljust()`,`center()` string methods, respectively"
      ]
    },
    {
      "cell_type": "markdown",
      "metadata": {
        "id": "O9M6_dC2gDOl"
      },
      "source": [
        "#### 10.What is the best way to remove whitespace characters from the start or end ?\n",
        "**Ans:** The `lstrip()` and `rstrip()` methods remove whitesapce characters from the left and right ends of a string"
      ]
    },
    {
      "cell_type": "code",
      "source": [
        ""
      ],
      "metadata": {
        "id": "-sfA4_90bvMj"
      },
      "execution_count": null,
      "outputs": []
    }
  ],
  "metadata": {
    "kernelspec": {
      "display_name": "Python 3",
      "language": "python",
      "name": "python3"
    },
    "language_info": {
      "codemirror_mode": {
        "name": "ipython",
        "version": 3
      },
      "file_extension": ".py",
      "mimetype": "text/x-python",
      "name": "python",
      "nbconvert_exporter": "python",
      "pygments_lexer": "ipython3",
      "version": "3.8.8"
    },
    "colab": {
      "name": "Python Basic Assignment_06.ipynb",
      "provenance": []
    }
  },
  "nbformat": 4,
  "nbformat_minor": 0
}