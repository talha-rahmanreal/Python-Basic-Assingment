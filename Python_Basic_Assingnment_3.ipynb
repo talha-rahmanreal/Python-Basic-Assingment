{
  "nbformat": 4,
  "nbformat_minor": 0,
  "metadata": {
    "colab": {
      "name": "Python Basic Assingnment 3.ipynb",
      "provenance": []
    },
    "kernelspec": {
      "name": "python3",
      "display_name": "Python 3"
    },
    "language_info": {
      "name": "python"
    }
  },
  "cells": [
    {
      "cell_type": "markdown",
      "source": [
        "> 1. Why are functions advantageous to have in your programs?"
      ],
      "metadata": {
        "id": "5-iOtOQP5tsI"
      }
    },
    {
      "cell_type": "markdown",
      "source": [
        "**Ans :**  A function is simply a “chunk” of code that you can use over and over again, rather than writing it out multiple times. Functions enable programmers to break down or decompose a problem into smaller chunks, each of which performs a particular task"
      ],
      "metadata": {
        "id": "K2hj2Qjy563e"
      }
    },
    {
      "cell_type": "markdown",
      "source": [
        "> 2. When does the code in a function run: when it's specified or when it's called?\n"
      ],
      "metadata": {
        "id": "GcRbK9kh7iTv"
      }
    },
    {
      "cell_type": "markdown",
      "source": [
        "**Ans:** The code in a function executes when the function is called, not when the function is specified."
      ],
      "metadata": {
        "id": "d6gBogYV8ydb"
      }
    },
    {
      "cell_type": "markdown",
      "source": [
        "> 3. What statement creates a function?\n"
      ],
      "metadata": {
        "id": "IwYQ3QiN83z9"
      }
    },
    {
      "cell_type": "markdown",
      "source": [
        "**Ans:** The def statement creates a function\n",
        "\n",
        "**Function:**\n",
        "\n",
        "def function(parameter):\n",
        "\n",
        "    -----body-----\n",
        "\n",
        "    -----body-----\n",
        "\n",
        "    return value"
      ],
      "metadata": {
        "id": "X3x72sLX9Cgo"
      }
    },
    {
      "cell_type": "markdown",
      "source": [
        "> 4. What is the difference between a function and a function call?"
      ],
      "metadata": {
        "id": "OxjilGmVDpJN"
      }
    },
    {
      "cell_type": "markdown",
      "source": [
        "Ans: A function call means invoking or calling that function. Unless a function is called there is no use of that function So the difference between the function and function call is, A function is procedure to achieve a particular result while function call is using this function to achive that task."
      ],
      "metadata": {
        "id": "Rcgth-8PD_2x"
      }
    },
    {
      "cell_type": "markdown",
      "source": [
        "> 5. How many global scopes are there in a Python program? How many local scopes?\n"
      ],
      "metadata": {
        "id": "WMlbc4VaEvFz"
      }
    },
    {
      "cell_type": "markdown",
      "source": [
        "**Ans:** There is one global scope, and a local scope is created whenever a function is called.\n",
        "\n"
      ],
      "metadata": {
        "id": "Mg_PByeWFCX-"
      }
    },
    {
      "cell_type": "markdown",
      "source": [
        "> 6. What happens to variables in a local scope when the function call returns?\n"
      ],
      "metadata": {
        "id": "NQF-pWBnFHKm"
      }
    },
    {
      "cell_type": "markdown",
      "source": [
        "**Ans:** When a function returns, the local scope is destroyed, and all the variables in it are forgotten.\n",
        "\n"
      ],
      "metadata": {
        "id": "aIM3IpMxFas9"
      }
    },
    {
      "cell_type": "markdown",
      "source": [
        "> 7. What is the concept of a return value? Is it possible to have a return value in an expression?\n"
      ],
      "metadata": {
        "id": "0t86hmUJXYX9"
      }
    },
    {
      "cell_type": "markdown",
      "source": [
        "**Ans:** A return value is the value that a function call evaluates to. Like any value, a return value can be used as part of an expression."
      ],
      "metadata": {
        "id": "uAv58VUTXt1w"
      }
    },
    {
      "cell_type": "markdown",
      "source": [
        "> 8. If a function does not have a return statement, what is the return value of a call to that function?"
      ],
      "metadata": {
        "id": "MaD1IRPlYBCv"
      }
    },
    {
      "cell_type": "markdown",
      "source": [
        "**Ans:** If there is no return statement for a function, its return value is None.\n",
        "\n"
      ],
      "metadata": {
        "id": "voJblDIpYI_D"
      }
    },
    {
      "cell_type": "markdown",
      "source": [
        "> 9. How do you make a function variable refer to the global variable?\n"
      ],
      "metadata": {
        "id": "Bsg7JxNnYbKZ"
      }
    },
    {
      "cell_type": "markdown",
      "source": [
        "**Ans:** A global statement will force a variable in a function to refer to the global variable. If you want to refer to a global variable in a function, you can use the global keyword to declare which variables are global"
      ],
      "metadata": {
        "id": "1-kLwo7UYgpa"
      }
    },
    {
      "cell_type": "markdown",
      "source": [
        "> 10. What is the data type of None?\n"
      ],
      "metadata": {
        "id": "af5wbSMtY49x"
      }
    },
    {
      "cell_type": "markdown",
      "source": [
        "**Ans:** The data type of None is NoneType."
      ],
      "metadata": {
        "id": "4V2VLBzyY7tD"
      }
    },
    {
      "cell_type": "markdown",
      "source": [
        "> 11. What does the sentence import areallyourpetsnamederic do?\n"
      ],
      "metadata": {
        "id": "2Th_w_D0ZFhE"
      }
    },
    {
      "cell_type": "markdown",
      "source": [
        "**Ans:** That import statement imports a module named areallyourpetsnamederic."
      ],
      "metadata": {
        "id": "77ldUHb5ZMVZ"
      }
    },
    {
      "cell_type": "markdown",
      "source": [
        "> 12. If you had a `bacon()` feature in a spam module, what would you call it after importing spam?\n"
      ],
      "metadata": {
        "id": "IYHm8NtyZSOF"
      }
    },
    {
      "cell_type": "markdown",
      "source": [
        "**Ans:** This function can be called with `spam.bacon()`"
      ],
      "metadata": {
        "id": "Ym8V82KDZVYU"
      }
    },
    {
      "cell_type": "markdown",
      "source": [
        "> 13. What can you do to save a programme from crashing if it encounters an error?"
      ],
      "metadata": {
        "id": "lume86bF1ePi"
      }
    },
    {
      "cell_type": "markdown",
      "source": [
        "**Ans :** `try` or `block` can handle the error and pass the error code of line"
      ],
      "metadata": {
        "id": "q_0BQFdd1lfX"
      }
    },
    {
      "cell_type": "markdown",
      "source": [
        "> 14. What is the purpose of the try clause? What is the purpose of the except clause?"
      ],
      "metadata": {
        "id": "aNKsB2df11jP"
      }
    },
    {
      "cell_type": "markdown",
      "source": [
        "**Ans :** `try` clause hadle the code that could potentially cause an error"
      ],
      "metadata": {
        "id": "kbAh7wt1146e"
      }
    },
    {
      "cell_type": "code",
      "source": [
        ""
      ],
      "metadata": {
        "id": "51vx9uK8YgBl"
      },
      "execution_count": null,
      "outputs": []
    },
    {
      "cell_type": "code",
      "source": [
        ""
      ],
      "metadata": {
        "id": "54O9RQJ6YITs"
      },
      "execution_count": null,
      "outputs": []
    },
    {
      "cell_type": "code",
      "source": [
        ""
      ],
      "metadata": {
        "id": "_kz--M-v56Wk"
      },
      "execution_count": null,
      "outputs": []
    },
    {
      "cell_type": "code",
      "execution_count": null,
      "metadata": {
        "id": "0Oc-g9nz5b6g"
      },
      "outputs": [],
      "source": [
        ""
      ]
    }
  ]
}