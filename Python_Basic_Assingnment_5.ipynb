{
  "cells": [
    {
      "cell_type": "markdown",
      "metadata": {
        "id": "c_HnaosANubo"
      },
      "source": [
        "# Assignment 5 Solutions"
      ]
    },
    {
      "cell_type": "markdown",
      "metadata": {
        "id": "qd2WrvzyNub2"
      },
      "source": [
        "#### 1.What does an empty dictionary's code look like?\n",
        "**Ans:** An empty dictionary is often represented by two empty curly brackets  \n",
        "`d = {}` or `d = dict()`"
      ]
    },
    {
      "cell_type": "markdown",
      "metadata": {
        "id": "9WTGSUlYNub4"
      },
      "source": [
        "#### 2.what is the value of dictionary value with key 'foo' and the value 42 ?\n",
        "**Ans:** `{'foo':42}`"
      ]
    },
    {
      "cell_type": "markdown",
      "metadata": {
        "id": "Q75lx5e0Nub6"
      },
      "source": [
        "#### 3.What is the most significant distinction between a dictionary and a list?\n",
        "**Ans:** Dictionaries are represented by `{}` where as listed are represented by `[]`  \n",
        " The Items stored in a dictionary are Unordered , while the items in a list are ordered"
      ]
    },
    {
      "cell_type": "markdown",
      "metadata": {
        "id": "15CDvz4KNub7"
      },
      "source": [
        "#### 4.What happens if you try to access spam ['foo'] if spam is {'bar':100} ?\n",
        "**Ans:** we will get a keyError `KeyError: 'foo'`"
      ]
    },
    {
      "cell_type": "markdown",
      "metadata": {
        "id": "2pN51krhNub-"
      },
      "source": [
        "#### 5.if a dictionary is stored in spam,what is the difference between the expressions 'cat' in spam and 'cat' in spam.keys() ?\n",
        "**Ans:** There is no difference . The operator checks whether a value exits as a key in the dictionary or not"
      ]
    },
    {
      "cell_type": "markdown",
      "metadata": {
        "id": "Kw-mEt6GNucC"
      },
      "source": [
        "#### 6.if a dictionary is stored in spam,what is the difference between the expressions 'cat' in spam and 'cat' in spam.values() ?\n",
        "**Ans:**'cat' in spam checks whether there is a 'cat' key in the dictionary, while 'cat' in spam.values() checks whether there is a value 'cat' for one of the keys in spam."
      ]
    },
    {
      "cell_type": "markdown",
      "metadata": {
        "id": "3xroDmt-NucE"
      },
      "source": [
        "#### 7.what is a shortcut for the following code ?\n",
        "`if 'color' not in spam:\n",
        "    spam['color'] ='black'`\n",
        "    \n",
        "**Ans:** `spam.setdefault('color','black')`"
      ]
    },
    {
      "cell_type": "markdown",
      "metadata": {
        "id": "CO8HcD6CNucG"
      },
      "source": [
        "#### 8.How do you 'pretty print' dictionary values using which modules and function ?\n",
        "**Ans:** we can pretty print a dictionary using three functions\n",
        "1. by using pprint() function of pprint module\n",
        "* **Note:** pprint() function doesnot prettify nested dictionaries\n",
        "2. by using dumps() method of json module\n",
        "3. by using dumps() method of yaml module\n"
      ]
    },
    {
      "cell_type": "code",
      "execution_count": 2,
      "metadata": {
        "colab": {
          "base_uri": "https://localhost:8080/"
        },
        "id": "9Z1zb-sGNucL",
        "outputId": "1aacd955-c3a7-4f5e-aebe-60858aa5c940"
      },
      "outputs": [
        {
          "output_type": "stream",
          "name": "stdout",
          "text": [
            "Printing by using pprint() function of pprint module\n",
            "[{'Age': '26',\n",
            "  'Name': 'Talha Rahman',\n",
            "  'Residence': {'City': 'New York', 'Country': 'USA'}},\n",
            " {'Age': '27',\n",
            "  'Name': 'Alpha',\n",
            "  'Residence': {'City': 'Madrid', 'Country': 'Spain'}},\n",
            " {'Age': '28',\n",
            "  'Name': 'Beta',\n",
            "  'Residence': {'City': 'England', 'Country': 'UK'}},\n",
            " {'Age': '29',\n",
            "  'Name': 'Gamma',\n",
            "  'Residence': {'City': 'Osaka', 'Country': 'Japan'}}]\n",
            "----------------------------------------------------------------------\n",
            "Printing by using dumps() method of json module [\n",
            "    {\n",
            "        \"Name\": \"Talha Rahman\",\n",
            "        \"Age\": \"26\",\n",
            "        \"Residence\": {\n",
            "            \"Country\": \"USA\",\n",
            "            \"City\": \"New York\"\n",
            "        }\n",
            "    },\n",
            "    {\n",
            "        \"Name\": \"Alpha\",\n",
            "        \"Age\": \"27\",\n",
            "        \"Residence\": {\n",
            "            \"Country\": \"Spain\",\n",
            "            \"City\": \"Madrid\"\n",
            "        }\n",
            "    },\n",
            "    {\n",
            "        \"Name\": \"Beta\",\n",
            "        \"Age\": \"28\",\n",
            "        \"Residence\": {\n",
            "            \"Country\": \"UK\",\n",
            "            \"City\": \"England\"\n",
            "        }\n",
            "    },\n",
            "    {\n",
            "        \"Name\": \"Gamma\",\n",
            "        \"Age\": \"29\",\n",
            "        \"Residence\": {\n",
            "            \"Country\": \"Japan\",\n",
            "            \"City\": \"Osaka\"\n",
            "        }\n",
            "    }\n",
            "]\n",
            "----------------------------------------------------------------------\n",
            "Printing by using dumps() method of yaml module\n",
            " - Age: '26'\n",
            "  Name: Talha Rahman\n",
            "  Residence: {City: New York, Country: USA}\n",
            "- Age: '27'\n",
            "  Name: Alpha\n",
            "  Residence: {City: Madrid, Country: Spain}\n",
            "- Age: '28'\n",
            "  Name: Beta\n",
            "  Residence: {City: England, Country: UK}\n",
            "- Age: '29'\n",
            "  Name: Gamma\n",
            "  Residence: {City: Osaka, Country: Japan}\n",
            "\n"
          ]
        }
      ],
      "source": [
        "ndict = [\n",
        "  {'Name': 'Talha Rahman', 'Age': '26', 'Residence': {'Country':'USA', 'City': 'New York'}},\n",
        "  {'Name': 'Alpha', 'Age': '27', 'Residence': {'Country':'Spain', 'City': 'Madrid'}},\n",
        "  {'Name': 'Beta', 'Age': '28', 'Residence': {'Country':'UK', 'City': 'England'}},\n",
        "  {'Name': 'Gamma', 'Age': '29', 'Residence': {'Country':'Japan', 'City': 'Osaka'}}\n",
        "]\n",
        "\n",
        "import pprint\n",
        "print('Printing by using pprint() function of pprint module')\n",
        "pprint.pprint(ndict)\n",
        "print('-'*70)\n",
        "import json\n",
        "dump = json.dumps(ndict, indent=4)\n",
        "print('Printing by using dumps() method of json module', dump)\n",
        "print('-'*70)\n",
        "import yaml\n",
        "dump = yaml.dump(ndict)\n",
        "print('Printing by using dumps() method of yaml module\\n', dump)\n"
      ]
    }
  ],
  "metadata": {
    "kernelspec": {
      "display_name": "Python 3",
      "language": "python",
      "name": "python3"
    },
    "language_info": {
      "codemirror_mode": {
        "name": "ipython",
        "version": 3
      },
      "file_extension": ".py",
      "mimetype": "text/x-python",
      "name": "python",
      "nbconvert_exporter": "python",
      "pygments_lexer": "ipython3",
      "version": "3.8.8"
    },
    "colab": {
      "name": "05.Assignment_05.ipynb",
      "provenance": []
    }
  },
  "nbformat": 4,
  "nbformat_minor": 0
}