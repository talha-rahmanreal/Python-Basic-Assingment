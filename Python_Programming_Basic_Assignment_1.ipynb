{
  "cells": [
    {
      "cell_type": "markdown",
      "metadata": {
        "id": "sHUSLyj9BeiA"
      },
      "source": [
        "#### 1.Write a Python program to print 'Hello Python' ?"
      ]
    },
    {
      "cell_type": "code",
      "execution_count": 1,
      "metadata": {
        "id": "tAF_gglsBeiC",
        "outputId": "dd8ed75f-243d-49cd-8673-11d6bc88c0ab",
        "colab": {
          "base_uri": "https://localhost:8080/"
        }
      },
      "outputs": [
        {
          "output_type": "stream",
          "name": "stdout",
          "text": [
            "Hello Python\n"
          ]
        }
      ],
      "source": [
        "print('Hello Python')"
      ]
    },
    {
      "cell_type": "markdown",
      "metadata": {
        "id": "Tsbg2o3KBeiI"
      },
      "source": [
        "#### 2.Write a Python program to do arithmetic operations addition and division ?"
      ]
    },
    {
      "cell_type": "code",
      "execution_count": 10,
      "metadata": {
        "id": "bM_N3rSGBeiJ",
        "outputId": "0b4dc669-dcdd-4346-9e57-bc16f74d54c8",
        "colab": {
          "base_uri": "https://localhost:8080/"
        }
      },
      "outputs": [
        {
          "output_type": "stream",
          "name": "stdout",
          "text": [
            "Choose a Arithmetic Operation:         \n",
            "1.Addition(+)        \n",
            "2.Division(/)        \n",
            "3.Stop(0)\n",
            "\n",
            "Enter any one of the arithmetic operation -> /\n",
            "\n",
            "Enter 1st Number: 25\n",
            "Enter 2nd Number: 945\n",
            "25/945=0.026455026455026454\n",
            "\n",
            "Enter any one of the arithmetic operation -> 0\n",
            "Restart the Program to do arthimatic operation\n"
          ]
        }
      ],
      "source": [
        "import operator\n",
        "\n",
        "add_div = { \"+\": operator.add, \"/\":operator.truediv } \n",
        "\n",
        "print('Choose a Arithmetic Operation: \\\n",
        "        \\n1.Addition(+)\\\n",
        "        \\n2.Division(/)\\\n",
        "        \\n3.Stop(0)\\n')\n",
        "   \n",
        "\n",
        "while True:\n",
        "    choose = input('Enter any one of the arithmetic operation -> ')\n",
        "    if choose == '0':\n",
        "        print(\"Restart the Program to do arthimatic operation\")\n",
        "        break\n",
        "    elif choose not in ['+','/']:\n",
        "        print(\"Please enter a valid operator\")\n",
        "    else:\n",
        "        num_1 = int(input('\\nEnter 1st Number: '))\n",
        "        num_2 = int(input('Enter 2nd Number: '))\n",
        "        print('{}{}{}={}\\n'.format(num_1, choose, num_2, add_div[choose](num_1,num_2)))\n"
      ]
    },
    {
      "cell_type": "markdown",
      "metadata": {
        "id": "ch6AyxZ6BeiO"
      },
      "source": [
        "#### 3.Write a Python program to find the area of a triangle ?"
      ]
    },
    {
      "cell_type": "code",
      "execution_count": 7,
      "metadata": {
        "id": "8P4-VdlZBeiP",
        "outputId": "946d35f5-e093-4e50-e3e6-1f86717ad8ff",
        "colab": {
          "base_uri": "https://localhost:8080/"
        }
      },
      "outputs": [
        {
          "output_type": "stream",
          "name": "stdout",
          "text": [
            "Enter base of the triangle: 25\n",
            "Enter height of the triangle: 60\n",
            "\n",
            " Hence the Area of triangle is -: 750.0\n"
          ]
        }
      ],
      "source": [
        "base = int(input('Enter base of the triangle: '))\n",
        "height = int(input('Enter height of the triangle: '))\n",
        "def area(height, base):\n",
        "    print('\\n Hence the Area of triangle is -:', 0.5*base*height)\n",
        "\n",
        "area(base,height)"
      ]
    },
    {
      "cell_type": "markdown",
      "metadata": {
        "id": "CoMZ_yWmBeiT"
      },
      "source": [
        "#### 4.Write a Python program to swap two variables ?"
      ]
    },
    {
      "cell_type": "code",
      "execution_count": 14,
      "metadata": {
        "id": "q13Bm7j3BeiV",
        "outputId": "0a7d28fb-fdd9-4546-bf2a-ca8848a6c6d4",
        "colab": {
          "base_uri": "https://localhost:8080/"
        }
      },
      "outputs": [
        {
          "output_type": "stream",
          "name": "stdout",
          "text": [
            "Enter First Number: 54\n",
            "Enter Second Number: 645\n",
            "Number before swap :  54 645\n",
            "Number After swap :  645 54\n"
          ]
        }
      ],
      "source": [
        "num_1 = int(input(\"Enter First Number: \"))\n",
        "num_2 = int(input(\"Enter Second Number: \"))\n",
        "\n",
        "def swap(a,b):\n",
        "    i = a\n",
        "    a = b\n",
        "    b = i\n",
        "    return a,b\n",
        "\n",
        "print('Number before swap : ',num_1, num_2)\n",
        "num_1, num_2 = swap(num_1, num_2)\n",
        "print('Number After swap : ',num_1,num_2)"
      ]
    },
    {
      "cell_type": "markdown",
      "metadata": {
        "id": "o0sn6-MTBeiY"
      },
      "source": [
        "#### 5.Write a Python program to generate a random number ?"
      ]
    },
    {
      "cell_type": "code",
      "execution_count": 20,
      "metadata": {
        "id": "GcCNCwMYBeiZ",
        "outputId": "fafcbfb2-0e43-4165-dcc7-27d25ac25fdd",
        "colab": {
          "base_uri": "https://localhost:8080/"
        }
      },
      "outputs": [
        {
          "output_type": "stream",
          "name": "stdout",
          "text": [
            "The Random number is :  19\n",
            "The Random number is :  3620\n",
            "The Random number is :  37573\n"
          ]
        }
      ],
      "source": [
        "from random import randint\n",
        "\n",
        "def randomNum(start=0, end=54650):\n",
        "    print('The Random number is : ',randint(start,end))\n",
        "\n",
        "randomNum(0,50)\n",
        "randomNum(0,4566)\n",
        "randomNum()\n"
      ]
    },
    {
      "cell_type": "code",
      "source": [
        ""
      ],
      "metadata": {
        "id": "NURZ9O0RIcmK"
      },
      "execution_count": null,
      "outputs": []
    }
  ],
  "metadata": {
    "kernelspec": {
      "display_name": "Python 3",
      "language": "python",
      "name": "python3"
    },
    "language_info": {
      "codemirror_mode": {
        "name": "ipython",
        "version": 3
      },
      "file_extension": ".py",
      "mimetype": "text/x-python",
      "name": "python",
      "nbconvert_exporter": "python",
      "pygments_lexer": "ipython3",
      "version": "3.8.8"
    },
    "colab": {
      "name": "Python Programming Basic Assignment 1.ipynb",
      "provenance": []
    }
  },
  "nbformat": 4,
  "nbformat_minor": 0
}