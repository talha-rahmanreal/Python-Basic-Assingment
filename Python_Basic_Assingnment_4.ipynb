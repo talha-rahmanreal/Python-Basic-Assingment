{
  "nbformat": 4,
  "nbformat_minor": 0,
  "metadata": {
    "colab": {
      "name": "Python Basic Assingnment 4.ipynb",
      "provenance": []
    },
    "kernelspec": {
      "name": "python3",
      "display_name": "Python 3"
    },
    "language_info": {
      "name": "python"
    }
  },
  "cells": [
    {
      "cell_type": "markdown",
      "source": [
        "> 1.What exactly is [ ]?"
      ],
      "metadata": {
        "id": "pGJlyVS_26kZ"
      }
    },
    {
      "cell_type": "markdown",
      "source": [
        "**Ans:**  [ ] is a list that contains no items. "
      ],
      "metadata": {
        "id": "u-CfSWX43Drb"
      }
    },
    {
      "cell_type": "markdown",
      "source": [
        "> 2. In a list of values stored in a variable called spam, how would you assign the value 'hello' as the third value? (Assume [2, 4, 6, 8, 10] are in spam.)"
      ],
      "metadata": {
        "id": "fdaN3BoP3ORW"
      }
    },
    {
      "cell_type": "markdown",
      "source": [
        "**Ans:**"
      ],
      "metadata": {
        "id": "Z9WrXNLL3U3u"
      }
    },
    {
      "cell_type": "code",
      "source": [
        "spam=[2,4,6,8,10]\n",
        "print(spam)\n",
        "spam[2]='hello' \n",
        "print(spam)"
      ],
      "metadata": {
        "colab": {
          "base_uri": "https://localhost:8080/"
        },
        "id": "1GWkprKg3Ubn",
        "outputId": "cf136431-3d6b-453a-a5ad-aaa1aab9d920"
      },
      "execution_count": 1,
      "outputs": [
        {
          "output_type": "stream",
          "name": "stdout",
          "text": [
            "[2, 4, 6, 8, 10]\n",
            "[2, 4, 'hello', 8, 10]\n"
          ]
        }
      ]
    },
    {
      "cell_type": "markdown",
      "source": [
        "## Let's pretend the spam includes the list ['a','b','c',d'] for the next three queries."
      ],
      "metadata": {
        "id": "vWNdawLp4ruo"
      }
    },
    {
      "cell_type": "markdown",
      "source": [
        "> 3. What is the value of spam[int(int('3'*2)//11)] ?\n"
      ],
      "metadata": {
        "id": "RvM5KggG36VM"
      }
    },
    {
      "cell_type": "code",
      "source": [
        "spam=['a','b','c','d']\n",
        "print(\"spam[int(int('3'*2)//11)] =\",spam[int(int('3'*2)//11)])"
      ],
      "metadata": {
        "colab": {
          "base_uri": "https://localhost:8080/"
        },
        "id": "9q0leajM3BY6",
        "outputId": "0c4d2910-9117-4d1b-f8fb-1baf397ff023"
      },
      "execution_count": 2,
      "outputs": [
        {
          "output_type": "stream",
          "name": "stdout",
          "text": [
            "spam[int(int('3'*2)//11)] = d\n"
          ]
        }
      ]
    },
    {
      "cell_type": "code",
      "source": [
        "spam[int(int('3'*2)//11)]"
      ],
      "metadata": {
        "colab": {
          "base_uri": "https://localhost:8080/",
          "height": 35
        },
        "id": "tAOFGRug3ANC",
        "outputId": "24fd90c4-98e0-436b-a665-9b5432f2267d"
      },
      "execution_count": 3,
      "outputs": [
        {
          "output_type": "execute_result",
          "data": {
            "application/vnd.google.colaboratory.intrinsic+json": {
              "type": "string"
            },
            "text/plain": [
              "'d'"
            ]
          },
          "metadata": {},
          "execution_count": 3
        }
      ]
    },
    {
      "cell_type": "markdown",
      "source": [
        "> 4. What is the value of spam[-1]?\n"
      ],
      "metadata": {
        "id": "QxpkKGl76aKt"
      }
    },
    {
      "cell_type": "code",
      "execution_count": 4,
      "metadata": {
        "colab": {
          "base_uri": "https://localhost:8080/"
        },
        "id": "gMsJVAa-2z1B",
        "outputId": "eca27c2c-fa98-4021-cc89-27656c5757cb"
      },
      "outputs": [
        {
          "output_type": "stream",
          "name": "stdout",
          "text": [
            "spam[-1] =  d\n"
          ]
        }
      ],
      "source": [
        "spam=['a','b','c','d']\n",
        "print('spam[-1] = ',spam[-1])"
      ]
    },
    {
      "cell_type": "markdown",
      "source": [
        "> 5. What is the value of spam[:2]?\n"
      ],
      "metadata": {
        "id": "_v3JzYkk6oaa"
      }
    },
    {
      "cell_type": "code",
      "source": [
        "print(spam)\n",
        "print(spam[:2])"
      ],
      "metadata": {
        "colab": {
          "base_uri": "https://localhost:8080/"
        },
        "id": "ZODhsepl6kph",
        "outputId": "1153e033-bba4-4ad5-a91a-71d2776773b6"
      },
      "execution_count": 5,
      "outputs": [
        {
          "output_type": "stream",
          "name": "stdout",
          "text": [
            "['a', 'b', 'c', 'd']\n",
            "['a', 'b']\n"
          ]
        }
      ]
    },
    {
      "cell_type": "markdown",
      "source": [
        "## Let's pretend bacon has the list [3.14,'cat',11,'cat',True] for the next three question\n"
      ],
      "metadata": {
        "id": "O_K7K_iv60TX"
      }
    },
    {
      "cell_type": "markdown",
      "source": [
        "> 6. What is the value of bacon.index('cat')?\n"
      ],
      "metadata": {
        "id": "h3xoDHmQ65B0"
      }
    },
    {
      "cell_type": "code",
      "source": [
        "bacon=[3.14,'cat',11,'cat',True]\n",
        "print(\"bacon.index('cat') =\",bacon.index('cat'))"
      ],
      "metadata": {
        "colab": {
          "base_uri": "https://localhost:8080/"
        },
        "id": "PjacXqMz6u54",
        "outputId": "b414a5e5-96ce-41b6-9b23-6dfb27cdaf2e"
      },
      "execution_count": 6,
      "outputs": [
        {
          "output_type": "stream",
          "name": "stdout",
          "text": [
            "bacon.index('cat') = 1\n"
          ]
        }
      ]
    },
    {
      "cell_type": "markdown",
      "source": [
        "> 7. How does bacon.append(99) change the look of the list value in bacon?\n"
      ],
      "metadata": {
        "id": "znHpJM2A7UEM"
      }
    },
    {
      "cell_type": "code",
      "source": [
        "print(bacon)\n",
        "bacon.append(99) \n",
        "print(bacon)"
      ],
      "metadata": {
        "colab": {
          "base_uri": "https://localhost:8080/"
        },
        "id": "I-KcFKW07FAu",
        "outputId": "27da81a9-6705-45b0-f821-4be2f4027707"
      },
      "execution_count": 7,
      "outputs": [
        {
          "output_type": "stream",
          "name": "stdout",
          "text": [
            "[3.14, 'cat', 11, 'cat', True]\n",
            "[3.14, 'cat', 11, 'cat', True, 99]\n"
          ]
        }
      ]
    },
    {
      "cell_type": "markdown",
      "source": [
        "> 8. How does bacon.remove('cat') change the look of the list in bacon?\n"
      ],
      "metadata": {
        "id": "l0mnUSYK7g0V"
      }
    },
    {
      "cell_type": "code",
      "source": [
        "print(bacon)\n",
        "bacon.remove('cat')\n",
        "print(bacon)"
      ],
      "metadata": {
        "colab": {
          "base_uri": "https://localhost:8080/"
        },
        "id": "eoztDD6H7eRA",
        "outputId": "0946a4e5-9711-4a43-c75c-2ac2e9537927"
      },
      "execution_count": 8,
      "outputs": [
        {
          "output_type": "stream",
          "name": "stdout",
          "text": [
            "[3.14, 'cat', 11, 'cat', True, 99]\n",
            "[3.14, 11, 'cat', True, 99]\n"
          ]
        }
      ]
    },
    {
      "cell_type": "markdown",
      "source": [
        "> 9. what are the list concatenation and list replication operations?\n"
      ],
      "metadata": {
        "id": "0qVQu56C7zju"
      }
    },
    {
      "cell_type": "code",
      "source": [
        "list_1 = ['hey', 'hi', 'hello']\n",
        "list_2 = ['Talha','Rahman']\n",
        "print(list_1 + list_2) # List Concatenation\n",
        "print(list_2*2) # List Replication"
      ],
      "metadata": {
        "colab": {
          "base_uri": "https://localhost:8080/"
        },
        "id": "5Rg7gGKk7ukd",
        "outputId": "edf83b13-70a3-4aa6-c465-02dab8a77eb6"
      },
      "execution_count": 9,
      "outputs": [
        {
          "output_type": "stream",
          "name": "stdout",
          "text": [
            "['hey', 'hi', 'hello', 'Talha', 'Rahman']\n",
            "['Talha', 'Rahman', 'Talha', 'Rahman']\n"
          ]
        }
      ]
    },
    {
      "cell_type": "markdown",
      "source": [
        "> 10. What is the difference between the list method append() and insert()?\n"
      ],
      "metadata": {
        "id": "7fmozhbN8ep1"
      }
    },
    {
      "cell_type": "code",
      "source": [
        "list = [1,3,4,5,6]\n",
        "list.append(7)\n",
        "print(list)\n",
        "list.insert(1,2)\n",
        "print(list)"
      ],
      "metadata": {
        "colab": {
          "base_uri": "https://localhost:8080/"
        },
        "id": "jiFiQWbn8DFt",
        "outputId": "79631a3d-3c23-4901-fa85-7eb21581d97b"
      },
      "execution_count": 10,
      "outputs": [
        {
          "output_type": "stream",
          "name": "stdout",
          "text": [
            "[1, 3, 4, 5, 6, 7]\n",
            "[1, 2, 3, 4, 5, 6, 7]\n"
          ]
        }
      ]
    },
    {
      "cell_type": "markdown",
      "source": [
        "> 11. What are the two methods for removing items from a list?\n"
      ],
      "metadata": {
        "id": "hnk6g7PH9EwO"
      }
    },
    {
      "cell_type": "markdown",
      "source": [
        "**Ans:** The `remove()` statement and the `del()` method are two ways to remove values from a list"
      ],
      "metadata": {
        "id": "jeqR9LaT9K7M"
      }
    },
    {
      "cell_type": "markdown",
      "source": [
        "> 12. Describe how list values and string values are identical.\n"
      ],
      "metadata": {
        "id": "s7fYk_2o9X7n"
      }
    },
    {
      "cell_type": "markdown",
      "source": [
        "**Ans:** Both lists and strings can be passed to len() function, have indexes and slices, be used in for loops, be concatenated or replicated, and be used with the in and not in operators."
      ],
      "metadata": {
        "id": "eMCt84Yt9h2I"
      }
    },
    {
      "cell_type": "markdown",
      "source": [
        "> 13. What's the difference between tuples and lists?\n"
      ],
      "metadata": {
        "id": "olg-fqP3-q7Y"
      }
    },
    {
      "cell_type": "markdown",
      "source": [
        "Ans: **Lists** are Mutable, Indexable and Slicable. they can have values added, removed, or changed lists use the square brackets, [ ]"
      ],
      "metadata": {
        "id": "NGEBjxdU-uXT"
      }
    },
    {
      "cell_type": "code",
      "source": [
        "list_data = ['an', 'example', 'of', 'a', 'list']\n",
        "list_data"
      ],
      "metadata": {
        "colab": {
          "base_uri": "https://localhost:8080/"
        },
        "id": "6euOc6iA8zoW",
        "outputId": "2c3cd628-4262-4d10-9f27-94ac3e337b35"
      },
      "execution_count": 11,
      "outputs": [
        {
          "output_type": "execute_result",
          "data": {
            "text/plain": [
              "['an', 'example', 'of', 'a', 'list']"
            ]
          },
          "metadata": {},
          "execution_count": 11
        }
      ]
    },
    {
      "cell_type": "markdown",
      "source": [
        "**Tuples** are Immutable but Indexable and Slicable. the tuple values cannot be changed at all. Also, tuples are represented using parentheses, ()"
      ],
      "metadata": {
        "id": "ZI-_aeZgAq9y"
      }
    },
    {
      "cell_type": "code",
      "source": [
        "tuple_data = ('this', 'is', 'an', 'example', 'of', 'tuple')\n",
        "tuple_data"
      ],
      "metadata": {
        "colab": {
          "base_uri": "https://localhost:8080/"
        },
        "id": "v2iqmlhbAlJN",
        "outputId": "ee5de2e5-defb-445c-cd9e-79fe92895bd7"
      },
      "execution_count": 12,
      "outputs": [
        {
          "output_type": "execute_result",
          "data": {
            "text/plain": [
              "('this', 'is', 'an', 'example', 'of', 'tuple')"
            ]
          },
          "metadata": {},
          "execution_count": 12
        }
      ]
    },
    {
      "cell_type": "markdown",
      "source": [
        "> 14. How do you type a tuple value that only contains the integer 42?\n"
      ],
      "metadata": {
        "id": "bqdAEVF3A_Iy"
      }
    },
    {
      "cell_type": "code",
      "source": [
        "tuple_1=(42)\n",
        "tuple_2=(42,)\n",
        "print(type(tuple_1))\n",
        "print(type(tuple_2))"
      ],
      "metadata": {
        "colab": {
          "base_uri": "https://localhost:8080/"
        },
        "id": "HQYxvO3oBDuM",
        "outputId": "bca01bfc-67d7-4384-b858-0a01eec62d64"
      },
      "execution_count": 13,
      "outputs": [
        {
          "output_type": "stream",
          "name": "stdout",
          "text": [
            "<class 'int'>\n",
            "<class 'tuple'>\n"
          ]
        }
      ]
    },
    {
      "cell_type": "markdown",
      "source": [
        "> 15. How do you get a list value's tuple form? How do you get a tuple value's list form?\n"
      ],
      "metadata": {
        "id": "xOzz5ftYBYql"
      }
    },
    {
      "cell_type": "markdown",
      "source": [
        "Ans: The tuple() and list() functions, respectively are used to convert a list to tuple and vice versa\n",
        "\n"
      ],
      "metadata": {
        "id": "6627qWTXBexY"
      }
    },
    {
      "cell_type": "code",
      "source": [
        "print(list_data)\n",
        "print(type(list_data))\n",
        "print(tuple(list_data))\n",
        "print(type(tuple(list_data)))"
      ],
      "metadata": {
        "colab": {
          "base_uri": "https://localhost:8080/"
        },
        "id": "jK0NxuTUBtl7",
        "outputId": "00b14b2c-dd18-4c33-8051-27c7d888274f"
      },
      "execution_count": 21,
      "outputs": [
        {
          "output_type": "stream",
          "name": "stdout",
          "text": [
            "['an', 'example', 'of', 'a', 'list']\n",
            "<class 'list'>\n",
            "('an', 'example', 'of', 'a', 'list')\n",
            "<class 'tuple'>\n"
          ]
        }
      ]
    },
    {
      "cell_type": "markdown",
      "source": [
        "> 16. Variables that \"contain\" list values are not necessarily lists themselves. Instead, what do they contain?\n"
      ],
      "metadata": {
        "id": "vCWWjkOLD2Ai"
      }
    },
    {
      "cell_type": "markdown",
      "source": [
        "**Ans:** They contain references to list values."
      ],
      "metadata": {
        "id": "AGIIRau3J2Hx"
      }
    },
    {
      "cell_type": "markdown",
      "source": [
        "> 17. How do you distinguish between copy.copy() and copy.deepcopy()?\n"
      ],
      "metadata": {
        "id": "1rQj2Bd7J_we"
      }
    },
    {
      "cell_type": "markdown",
      "source": [
        "**Ans:** The copy.copy() function will do a shallow copy of a list, while the copy.deepcopy() function will do a deep copy of a list. That is, only copy.deepcopy() will duplicate any lists inside the list."
      ],
      "metadata": {
        "id": "vfhexZIWKBmz"
      }
    },
    {
      "cell_type": "code",
      "source": [
        ""
      ],
      "metadata": {
        "id": "7C4JPMy-B1Oj"
      },
      "execution_count": null,
      "outputs": []
    }
  ]
}