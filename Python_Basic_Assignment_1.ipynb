{
  "nbformat": 4,
  "nbformat_minor": 0,
  "metadata": {
    "colab": {
      "name": "Python Basic Assignment_1.ipynb",
      "provenance": []
    },
    "kernelspec": {
      "name": "python3",
      "display_name": "Python 3"
    },
    "language_info": {
      "name": "python"
    }
  },
  "cells": [
    {
      "cell_type": "markdown",
      "source": [
        "1. In the below elements which of them are values or an expression? eg:- values can be integer or string and expressions will be mathematical operators.\n",
        "\n",
        "* \n",
        "'hello'\n",
        "-87.8\n",
        "*  , - , / , + ,  *"
      ],
      "metadata": {
        "id": "s8T3N0Mq6rNC"
      }
    },
    {
      "cell_type": "markdown",
      "source": [
        "**Ans** : \n",
        "\n",
        "**Operators:** * , - , / , + \n",
        "\n",
        "**Expression:** `hello` , `87.8` , `6`"
      ],
      "metadata": {
        "id": "ZGJqXVVd7o-a"
      }
    },
    {
      "cell_type": "markdown",
      "source": [
        "2. What is the difference between string and variable?"
      ],
      "metadata": {
        "id": "1mQvULxp8W5a"
      }
    },
    {
      "cell_type": "markdown",
      "source": [
        "**Ans:**\n",
        "\n",
        "**variable** as an identifier to store a value in a memory location and to manipulate it if needed.\n",
        "\n",
        "`x='a'`\n",
        "`y=2` \n",
        "\n",
        "here `x` , `y` is variable\n",
        "\n",
        "**String** is a type of information you would store in a Variable.  String is simply one of the handful of types that Python uses along with various number types, collection types (list, string , tuple, dict, and set), objects and a few more.\n",
        "\n",
        "`x='a'`\n",
        "`y=2`\n",
        "\n",
        "here `'a'` , `2` is string"
      ],
      "metadata": {
        "id": "8qC8MafI8Zo_"
      }
    },
    {
      "cell_type": "markdown",
      "source": [
        "3. Describe three different data types.\n",
        "\n",
        "**ans** \n",
        "\n",
        "`int` : it means whole numbers (integral values)\n",
        "`a=10`\n",
        "\n",
        "`float` :it  represent floating point values (decimal values)\n",
        "`b=5.5`\n",
        "\n",
        "`complex` : Complex data mean (real part)i + (imaginary part)j.\n",
        "`i+j` `5i+10j`"
      ],
      "metadata": {
        "id": "rx0HudP4-yi_"
      }
    },
    {
      "cell_type": "code",
      "execution_count": 1,
      "metadata": {
        "colab": {
          "base_uri": "https://localhost:8080/"
        },
        "id": "RDQ8HJIS59P4",
        "outputId": "aa999a2b-a722-4849-fd92-de6505da16df"
      },
      "outputs": [
        {
          "output_type": "execute_result",
          "data": {
            "text/plain": [
              "int"
            ]
          },
          "metadata": {},
          "execution_count": 1
        }
      ],
      "source": [
        "# Int data type\n",
        "a=10\n",
        "type(a)"
      ]
    },
    {
      "cell_type": "code",
      "source": [
        "# Float data type\n",
        "b=5.5\n",
        "type(b)"
      ],
      "metadata": {
        "colab": {
          "base_uri": "https://localhost:8080/"
        },
        "id": "1YMwb0ryAZbB",
        "outputId": "b3ea0cce-5ff6-4b10-b847-7c1474f46299"
      },
      "execution_count": 2,
      "outputs": [
        {
          "output_type": "execute_result",
          "data": {
            "text/plain": [
              "float"
            ]
          },
          "metadata": {},
          "execution_count": 2
        }
      ]
    },
    {
      "cell_type": "code",
      "source": [
        "# Complex data type\n",
        "c=10 + 5.5j\n",
        "type(c)"
      ],
      "metadata": {
        "colab": {
          "base_uri": "https://localhost:8080/"
        },
        "id": "mFYC5glGA1FC",
        "outputId": "5dd2285c-df37-4db3-f7be-d868e2edb875"
      },
      "execution_count": 3,
      "outputs": [
        {
          "output_type": "execute_result",
          "data": {
            "text/plain": [
              "complex"
            ]
          },
          "metadata": {},
          "execution_count": 3
        }
      ]
    },
    {
      "cell_type": "markdown",
      "source": [
        "4. What is an expression made up of? What do all expressions do?"
      ],
      "metadata": {
        "id": "TdCem8BFBO2m"
      }
    },
    {
      "cell_type": "markdown",
      "source": [
        "**Ans :**\n",
        "\n",
        "An expression is a construct made up of variables, operators, and method invocations, which are constructed according to the syntax of the language, that evaluates to a single value"
      ],
      "metadata": {
        "id": "hLb7rLxYBhux"
      }
    },
    {
      "cell_type": "code",
      "source": [
        "# This is an example of an expression thats evaluates a single value \n",
        "4+56+7-4*45/45"
      ],
      "metadata": {
        "colab": {
          "base_uri": "https://localhost:8080/"
        },
        "id": "pYgzXjwyA_1y",
        "outputId": "14cdec73-cf30-413e-b4ed-9dd4b083a898"
      },
      "execution_count": 4,
      "outputs": [
        {
          "output_type": "execute_result",
          "data": {
            "text/plain": [
              "63.0"
            ]
          },
          "metadata": {},
          "execution_count": 4
        }
      ]
    },
    {
      "cell_type": "markdown",
      "source": [
        "5.This assignment statements, like spam = 10. What is the difference between an expression and a statement?"
      ],
      "metadata": {
        "id": "k_-c9nChCHB8"
      }
    },
    {
      "cell_type": "markdown",
      "source": [
        "Statements are roughly equivalent to sentences in natural languages. A statement forms a complete unit of execution while An expression is a construct made up of variables, operators, and method invocations, which are constructed according to the syntax of the language, that evaluates to a single value"
      ],
      "metadata": {
        "id": "bLNmelI_C6nr"
      }
    },
    {
      "cell_type": "code",
      "source": [
        "# This is an example of an expression thats evaluates a single value \n",
        "4+56+7-4*45/45\n",
        "print(\"hey\")"
      ],
      "metadata": {
        "colab": {
          "base_uri": "https://localhost:8080/"
        },
        "id": "4yd034tMC6C8",
        "outputId": "57a9961f-b237-4d18-d2bd-419880098fee"
      },
      "execution_count": 5,
      "outputs": [
        {
          "output_type": "stream",
          "name": "stdout",
          "text": [
            "hey\n"
          ]
        }
      ]
    },
    {
      "cell_type": "code",
      "source": [
        "# this is an example of statement\n",
        "Name = \"Talha Rahman\""
      ],
      "metadata": {
        "id": "NPbyBsvpF707"
      },
      "execution_count": 6,
      "outputs": []
    },
    {
      "cell_type": "markdown",
      "source": [
        "6.After running the following code, what does the variable bacon contain?\n",
        "\n",
        "bacon = 22\n",
        "\n",
        "bacon + 1"
      ],
      "metadata": {
        "id": "FITDcOo2GQYP"
      }
    },
    {
      "cell_type": "code",
      "source": [
        "bacon = 22\n",
        "bacon + 1"
      ],
      "metadata": {
        "colab": {
          "base_uri": "https://localhost:8080/"
        },
        "id": "dm9bsBqeGIi4",
        "outputId": "f9279828-53ac-46bc-8dd1-4fe363dc10af"
      },
      "execution_count": 7,
      "outputs": [
        {
          "output_type": "execute_result",
          "data": {
            "text/plain": [
              "23"
            ]
          },
          "metadata": {},
          "execution_count": 7
        }
      ]
    },
    {
      "cell_type": "markdown",
      "source": [
        "7.What should the values of the following two terms be?\n",
        "\n",
        "'spam' + 'spamspam'\n",
        "\n",
        "'spam' * 3"
      ],
      "metadata": {
        "id": "eYLx63LSGk6i"
      }
    },
    {
      "cell_type": "code",
      "source": [
        "'spam'+'spamspam'"
      ],
      "metadata": {
        "colab": {
          "base_uri": "https://localhost:8080/",
          "height": 35
        },
        "id": "PCXBAxMBGd8A",
        "outputId": "b135f318-2e15-42ee-aff3-d92543bbf954"
      },
      "execution_count": 8,
      "outputs": [
        {
          "output_type": "execute_result",
          "data": {
            "application/vnd.google.colaboratory.intrinsic+json": {
              "type": "string"
            },
            "text/plain": [
              "'spamspamspam'"
            ]
          },
          "metadata": {},
          "execution_count": 8
        }
      ]
    },
    {
      "cell_type": "code",
      "source": [
        "'spam'*3"
      ],
      "metadata": {
        "colab": {
          "base_uri": "https://localhost:8080/",
          "height": 35
        },
        "id": "nsXEl7M4Gz23",
        "outputId": "8588448c-8dad-4895-a3d5-6bb29f4bedb5"
      },
      "execution_count": 9,
      "outputs": [
        {
          "output_type": "execute_result",
          "data": {
            "application/vnd.google.colaboratory.intrinsic+json": {
              "type": "string"
            },
            "text/plain": [
              "'spamspamspam'"
            ]
          },
          "metadata": {},
          "execution_count": 9
        }
      ]
    },
    {
      "cell_type": "markdown",
      "source": [
        "8. Why is eggs a valid variable name while 100 is invalid?\n",
        "\n",
        "**Ans:** Rules for Python variables:\n",
        "\n",
        "* A variable name must start with a letter or the underscore character\n",
        "* A variable name cannot start with a number\n",
        "* A variable name can only contain alpha-numeric characters and underscores (A-z, 0-9, and _ )\n",
        "* Variable names are case-sensitive (age, Age and AGE are three different variables)\n",
        "\n",
        "hence as per pyhton rule 100 cannot be variable"
      ],
      "metadata": {
        "id": "YxhQmc9BG_oV"
      }
    },
    {
      "cell_type": "markdown",
      "source": [
        "9.What three functions can be used to get the integer,floating-point number,or string version of a value?\n",
        "\n",
        "**Ans:** `int()` , `float()` , `str()`"
      ],
      "metadata": {
        "id": "22ASYgZCM6cK"
      }
    },
    {
      "cell_type": "code",
      "source": [
        "# Example\n",
        "int(5.5)"
      ],
      "metadata": {
        "colab": {
          "base_uri": "https://localhost:8080/"
        },
        "id": "CmykBng-G6WQ",
        "outputId": "a60a368f-b6b5-4b19-a0dd-fe722f22e533"
      },
      "execution_count": 10,
      "outputs": [
        {
          "output_type": "execute_result",
          "data": {
            "text/plain": [
              "5"
            ]
          },
          "metadata": {},
          "execution_count": 10
        }
      ]
    },
    {
      "cell_type": "code",
      "source": [
        "float(5)"
      ],
      "metadata": {
        "colab": {
          "base_uri": "https://localhost:8080/"
        },
        "id": "nu2xLaHRNXwF",
        "outputId": "1c459e05-6860-43cb-d740-21093b14a26c"
      },
      "execution_count": 11,
      "outputs": [
        {
          "output_type": "execute_result",
          "data": {
            "text/plain": [
              "5.0"
            ]
          },
          "metadata": {},
          "execution_count": 11
        }
      ]
    },
    {
      "cell_type": "code",
      "source": [
        "str(5)"
      ],
      "metadata": {
        "colab": {
          "base_uri": "https://localhost:8080/",
          "height": 35
        },
        "id": "hNujkRkXNcEV",
        "outputId": "1ffdcf13-1253-4c9b-ba61-1c38832870f7"
      },
      "execution_count": 12,
      "outputs": [
        {
          "output_type": "execute_result",
          "data": {
            "application/vnd.google.colaboratory.intrinsic+json": {
              "type": "string"
            },
            "text/plain": [
              "'5'"
            ]
          },
          "metadata": {},
          "execution_count": 12
        }
      ]
    },
    {
      "cell_type": "markdown",
      "source": [
        "10.Why does this expression cause an error? how can you fix it?\n",
        "\n",
        "`'I have eaten ' + 99 + 'burritos.'`\n",
        "\n",
        "**Ans** This statement will cause error beacause 99 is not string after converting 99 into string error will get fixed"
      ],
      "metadata": {
        "id": "fkyzX21NNjRv"
      }
    },
    {
      "cell_type": "code",
      "source": [
        "'I have eaten ' + 99 + 'burritos.'"
      ],
      "metadata": {
        "colab": {
          "base_uri": "https://localhost:8080/",
          "height": 169
        },
        "id": "6EMzv_GFNfh0",
        "outputId": "ce02ad23-ed4d-4fb2-fc2c-3c345453f703"
      },
      "execution_count": 13,
      "outputs": [
        {
          "output_type": "error",
          "ename": "TypeError",
          "evalue": "ignored",
          "traceback": [
            "\u001b[0;31m---------------------------------------------------------------------------\u001b[0m",
            "\u001b[0;31mTypeError\u001b[0m                                 Traceback (most recent call last)",
            "\u001b[0;32m<ipython-input-13-ce0df1b7fb21>\u001b[0m in \u001b[0;36m<module>\u001b[0;34m()\u001b[0m\n\u001b[0;32m----> 1\u001b[0;31m \u001b[0;34m'I have eaten '\u001b[0m \u001b[0;34m+\u001b[0m \u001b[0;36m99\u001b[0m \u001b[0;34m+\u001b[0m \u001b[0;34m'burritos.'\u001b[0m\u001b[0;34m\u001b[0m\u001b[0;34m\u001b[0m\u001b[0m\n\u001b[0m",
            "\u001b[0;31mTypeError\u001b[0m: can only concatenate str (not \"int\") to str"
          ]
        }
      ]
    },
    {
      "cell_type": "code",
      "source": [
        "'I have eaten ' + str(99) + ' burritos.'"
      ],
      "metadata": {
        "colab": {
          "base_uri": "https://localhost:8080/",
          "height": 35
        },
        "id": "PVzNUsVbN9mL",
        "outputId": "fd972a13-bedb-4862-8d0d-7cf170a08f0d"
      },
      "execution_count": 14,
      "outputs": [
        {
          "output_type": "execute_result",
          "data": {
            "application/vnd.google.colaboratory.intrinsic+json": {
              "type": "string"
            },
            "text/plain": [
              "'I have eaten 99 burritos.'"
            ]
          },
          "metadata": {},
          "execution_count": 14
        }
      ]
    },
    {
      "cell_type": "code",
      "source": [
        ""
      ],
      "metadata": {
        "id": "F-0TMY5COnLM"
      },
      "execution_count": null,
      "outputs": []
    }
  ]
}